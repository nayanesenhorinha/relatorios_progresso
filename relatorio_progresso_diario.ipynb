{
 "cells": [
  {
   "cell_type": "markdown",
   "metadata": {},
   "source": [
    "# Relatório de progresso diário\n",
    "Este relatório tem o objetivo de demonstrar a importância da análise dos dados de um projeto de desenvolvimento de software ao longo de uma semana. Os dados fornecidos permitirão ao proprietário da equipe de desenvolvimento obter insights sobre o progresso do projeto, identificar possíveis áreas de melhoria e tomar decisões informadas para garantir o sucesso do projeto.\n",
    "\n",
    "## Bibliotecas"
   ]
  },
  {
   "cell_type": "code",
   "execution_count": 10,
   "metadata": {},
   "outputs": [],
   "source": [
    "import pandas as pd\n",
    "import numpy as np"
   ]
  },
  {
   "cell_type": "markdown",
   "metadata": {},
   "source": [
    "## Dados\n",
    "Os dados foram fornecidos em uma tabela com as seguintes colunas: dia, horas trabalhadas, bugs corrigidos e tarefas concluídas."
   ]
  },
  {
   "cell_type": "code",
   "execution_count": 2,
   "metadata": {},
   "outputs": [],
   "source": [
    "dados = {\n",
    "    'Dia': ['Segunda', 'Terça', 'Quarta', 'Quinta', 'Sexta', 'Sábado', 'Domingo'],\n",
    "    'Horas Trabalhadas': [6, 7, 8, 6, 7, 5, 4],\n",
    "    'Bugs Corrigidos': [3, 2, 1, 4, 3, 2, 1],\n",
    "    'Tarefas Concluídas': [5, 4, 6, 4, 5, 3, 2]\n",
    "}\n",
    "\n",
    "df = pd.DataFrame(dados)"
   ]
  },
  {
   "cell_type": "markdown",
   "metadata": {},
   "source": [
    "## Análise Exploratória\n",
    " \n",
    " Textinho"
   ]
  },
  {
   "cell_type": "code",
   "execution_count": 5,
   "metadata": {},
   "outputs": [
    {
     "name": "stdout",
     "output_type": "stream",
     "text": [
      "Total de horas trabalhadas: 43\n",
      "Média de horas trabalhadas: 6.14\n",
      "Total de bugs corrigidos: 16\n",
      "Média de bugs corrigidos: 4.14\n"
     ]
    }
   ],
   "source": [
    "total_horas_trabalhadas = df['Horas Trabalhadas'].sum()\n",
    "print(f'Total de horas trabalhadas: {total_horas_trabalhadas}')\n",
    "\n",
    "media_horas_trabalhadas = df['Horas Trabalhadas'].mean()\n",
    "print(f'Média de horas trabalhadas: {round(media_horas_trabalhadas,2)}')\n",
    "\n",
    "total_bugs_corrigidos = df['Bugs Corrigidos'].sum()\n",
    "print(f'Total de bugs corrigidos: {total_bugs_corrigidos}')\n",
    "\n",
    "media_tarefas_concluidas = df['Tarefas Concluídas'].mean()\n",
    "print(f'Média de bugs corrigidos: {round(media_tarefas_concluidas,2)}')"
   ]
  },
  {
   "cell_type": "markdown",
   "metadata": {},
   "source": [
    "## Produtividade diária (tarefas concluídas por hora)\n",
    "Textinho"
   ]
  },
  {
   "cell_type": "code",
   "execution_count": 14,
   "metadata": {},
   "outputs": [
    {
     "data": {
      "text/html": [
       "<div>\n",
       "<style scoped>\n",
       "    .dataframe tbody tr th:only-of-type {\n",
       "        vertical-align: middle;\n",
       "    }\n",
       "\n",
       "    .dataframe tbody tr th {\n",
       "        vertical-align: top;\n",
       "    }\n",
       "\n",
       "    .dataframe thead th {\n",
       "        text-align: right;\n",
       "    }\n",
       "</style>\n",
       "<table border=\"1\" class=\"dataframe\">\n",
       "  <thead>\n",
       "    <tr style=\"text-align: right;\">\n",
       "      <th></th>\n",
       "      <th>Dia</th>\n",
       "      <th>Horas Trabalhadas</th>\n",
       "      <th>Bugs Corrigidos</th>\n",
       "      <th>Tarefas Concluídas</th>\n",
       "      <th>Produtividade Diária</th>\n",
       "    </tr>\n",
       "  </thead>\n",
       "  <tbody>\n",
       "    <tr>\n",
       "      <th>0</th>\n",
       "      <td>Segunda</td>\n",
       "      <td>6</td>\n",
       "      <td>3</td>\n",
       "      <td>5</td>\n",
       "      <td>0.83</td>\n",
       "    </tr>\n",
       "    <tr>\n",
       "      <th>1</th>\n",
       "      <td>Terça</td>\n",
       "      <td>7</td>\n",
       "      <td>2</td>\n",
       "      <td>4</td>\n",
       "      <td>0.57</td>\n",
       "    </tr>\n",
       "    <tr>\n",
       "      <th>2</th>\n",
       "      <td>Quarta</td>\n",
       "      <td>8</td>\n",
       "      <td>1</td>\n",
       "      <td>6</td>\n",
       "      <td>0.75</td>\n",
       "    </tr>\n",
       "    <tr>\n",
       "      <th>3</th>\n",
       "      <td>Quinta</td>\n",
       "      <td>6</td>\n",
       "      <td>4</td>\n",
       "      <td>4</td>\n",
       "      <td>0.67</td>\n",
       "    </tr>\n",
       "    <tr>\n",
       "      <th>4</th>\n",
       "      <td>Sexta</td>\n",
       "      <td>7</td>\n",
       "      <td>3</td>\n",
       "      <td>5</td>\n",
       "      <td>0.71</td>\n",
       "    </tr>\n",
       "    <tr>\n",
       "      <th>5</th>\n",
       "      <td>Sábado</td>\n",
       "      <td>5</td>\n",
       "      <td>2</td>\n",
       "      <td>3</td>\n",
       "      <td>0.60</td>\n",
       "    </tr>\n",
       "    <tr>\n",
       "      <th>6</th>\n",
       "      <td>Domingo</td>\n",
       "      <td>4</td>\n",
       "      <td>1</td>\n",
       "      <td>2</td>\n",
       "      <td>0.50</td>\n",
       "    </tr>\n",
       "  </tbody>\n",
       "</table>\n",
       "</div>"
      ],
      "text/plain": [
       "       Dia  Horas Trabalhadas  Bugs Corrigidos  Tarefas Concluídas  \\\n",
       "0  Segunda                  6                3                   5   \n",
       "1    Terça                  7                2                   4   \n",
       "2   Quarta                  8                1                   6   \n",
       "3   Quinta                  6                4                   4   \n",
       "4    Sexta                  7                3                   5   \n",
       "5   Sábado                  5                2                   3   \n",
       "6  Domingo                  4                1                   2   \n",
       "\n",
       "   Produtividade Diária  \n",
       "0                  0.83  \n",
       "1                  0.57  \n",
       "2                  0.75  \n",
       "3                  0.67  \n",
       "4                  0.71  \n",
       "5                  0.60  \n",
       "6                  0.50  "
      ]
     },
     "execution_count": 14,
     "metadata": {},
     "output_type": "execute_result"
    }
   ],
   "source": [
    "produtividade = df['Tarefas Concluídas'] / df['Horas Trabalhadas']\n",
    "df['Produtividade Diária'] = round(produtividade, 2)\n",
    "df"
   ]
  },
  {
   "cell_type": "markdown",
   "metadata": {},
   "source": [
    "## Resultados e Insights\n",
    "\n",
    "### Total de horas trabalhadas e bugs registrados\n",
    "O total de horas trabalhadas na semana foi de **43 horas**.\n",
    "O total de bugs corrigidos na semana foi de **16 bugs**.\n",
    "\n",
    "### Total de tarefas concluídas e bugs corrigidos\n",
    "A média diária de horas trabalhadas foi de **6.14 horas**.\n",
    "A média diária de bugs corrigidos foi de **2.29 bugs**.\n",
    "\n",
    "O total de tarefas concluídas na semana foi de **29 tarefas**.\n",
    "\n",
    "### Média Diária de Tarefas Concluídas\n",
    "A média diária de tarefas concluídas foi de 4.14 tarefas.\n",
    "\n",
    "## Produtividade Diária\n",
    "A produtividade diária, medida em tarefas concluídas por hora trabalhada, variou ao longo da semana, com picos nos dias em que a quantidade de tarefas concluídas foi maior em relação às horas trabalhadas.\n",
    "\n",
    "## Conclusão\n",
    "Este relatório fornece uma visão detalhada do progresso diário da equipe de desenvolvimento de software. A análise dos dados mostra que, embora a produtividade tenha variado ao longo da semana, houve um esforço consistente para corrigir bugs e concluir tarefas. Essas informações são essenciais para identificar padrões de trabalho, áreas de melhoria e tomar decisões informadas para otimizar o desempenho da equipe e o sucesso do projeto.\n",
    "\n",
    "## Recomendações\n",
    "Manter um registro constante e detalhado das horas trabalhadas, bugs corrigidos e tarefas concluídas.\n",
    "Analisar regularmente os dados para identificar tendências e áreas de melhoria.\n",
    "Considerar ajustar a carga de trabalho ou alocar recursos de forma mais eficaz com base nas observações feitas a partir dos dados analisados."
   ]
  }
 ],
 "metadata": {
  "kernelspec": {
   "display_name": "Python 3.12.2 64-bit",
   "language": "python",
   "name": "python3"
  },
  "language_info": {
   "codemirror_mode": {
    "name": "ipython",
    "version": 3
   },
   "file_extension": ".py",
   "mimetype": "text/x-python",
   "name": "python",
   "nbconvert_exporter": "python",
   "pygments_lexer": "ipython3",
   "version": "3.12.2"
  },
  "orig_nbformat": 4,
  "vscode": {
   "interpreter": {
    "hash": "9240d949b7e875368571ba59acc67192d2efbcc4561b3c6f94c83d7858e18732"
   }
  }
 },
 "nbformat": 4,
 "nbformat_minor": 2
}
